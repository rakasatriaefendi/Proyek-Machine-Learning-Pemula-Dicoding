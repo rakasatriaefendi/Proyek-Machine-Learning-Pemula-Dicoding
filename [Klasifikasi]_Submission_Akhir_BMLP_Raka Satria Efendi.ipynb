{
  "cells": [
    {
      "cell_type": "markdown",
      "metadata": {
        "id": "fKADPWcFKlj3"
      },
      "source": [
        "# **1. Import Library**"
      ]
    },
    {
      "cell_type": "markdown",
      "metadata": {
        "id": "LgA3ERnVn84N"
      },
      "source": [
        "Pada tahap ini, Anda perlu mengimpor beberapa pustaka (library) Python yang dibutuhkan untuk analisis data dan pembangunan model machine learning."
      ]
    },
    {
      "cell_type": "code",
      "execution_count": 52,
      "metadata": {
        "id": "BlmvjLY9M4Yj"
      },
      "outputs": [],
      "source": [
        "# Import library dasar untuk manipulasi data dan visualisasi\n",
        "import pandas as pd\n",
        "import numpy as np\n",
        "import matplotlib.pyplot as plt\n",
        "import seaborn as sns\n",
        "\n",
        "# Import library untuk machine learning\n",
        "from sklearn.model_selection import train_test_split\n",
        "from sklearn.preprocessing import StandardScaler, LabelEncoder\n",
        "from sklearn.ensemble import RandomForestClassifier\n",
        "from sklearn.model_selection import RandomizedSearchCV, StratifiedKFold\n",
        "from sklearn.tree import DecisionTreeClassifier\n",
        "from sklearn.neighbors import KNeighborsClassifier\n",
        "from sklearn.linear_model import LogisticRegression\n",
        "from sklearn.metrics import accuracy_score, classification_report, confusion_matrix, f1_score\n",
        "from sklearn.model_selection import GridSearchCV\n",
        "from sklearn.model_selection import cross_val_score\n",
        "from pprint import pprint\n",
        "from tqdm import tqdm"
      ]
    },
    {
      "cell_type": "markdown",
      "metadata": {
        "id": "f3YIEnAFKrKL"
      },
      "source": [
        "# **2. Memuat Dataset dari Hasil Clustering**"
      ]
    },
    {
      "cell_type": "markdown",
      "metadata": {
        "id": "Ey3ItwTen_7E"
      },
      "source": [
        "Memuat dataset hasil clustering dari file CSV ke dalam variabel DataFrame."
      ]
    },
    {
      "cell_type": "code",
      "execution_count": 53,
      "metadata": {
        "id": "GHCGNTyrM5fS",
        "colab": {
          "base_uri": "https://localhost:8080/"
        },
        "outputId": "6367c8c6-1792-4993-aa02-a528d5cf49ac"
      },
      "outputs": [
        {
          "output_type": "stream",
          "name": "stdout",
          "text": [
            "Drive already mounted at /content/drive; to attempt to forcibly remount, call drive.mount(\"/content/drive\", force_remount=True).\n"
          ]
        }
      ],
      "source": [
        "from google.colab import drive\n",
        "drive.mount('/content/drive')"
      ]
    },
    {
      "cell_type": "code",
      "execution_count": 54,
      "metadata": {
        "id": "37mmw-SiVwSB",
        "colab": {
          "base_uri": "https://localhost:8080/",
          "height": 313
        },
        "outputId": "b554ea9d-f64a-46fc-82e4-024c40282a72"
      },
      "outputs": [
        {
          "output_type": "execute_result",
          "data": {
            "text/plain": [
              "           InvoiceDate  Recency  Frequency  TotalQuantity  AvgUnitPrice  \\\n",
              "0  2010-12-01 08:26:00      374        2.0    6286.964888      3.286667   \n",
              "1  2010-12-01 08:28:00      374        2.0    2093.063937      1.850000   \n",
              "2  2010-12-01 08:34:00      374        2.0    8222.611481      3.790000   \n",
              "3  2010-12-01 08:45:00      374        2.0   58549.422894      2.105294   \n",
              "4  2010-12-01 09:01:00      374        2.0    2093.063937      1.850000   \n",
              "\n",
              "   Monetary  Recency_Frequency_Ratio  Frequency_TotalQuantity_Ratio  Cluster  \\\n",
              "0         0                    187.0                       0.025641        0   \n",
              "1         0                    187.0                       0.076923        0   \n",
              "2         0                    187.0                       0.019608        0   \n",
              "3         0                    187.0                       0.002755        1   \n",
              "4         0                    187.0                       0.076923        0   \n",
              "\n",
              "   Cluster_2  \n",
              "0          0  \n",
              "1          0  \n",
              "2          0  \n",
              "3          1  \n",
              "4          0  "
            ],
            "text/html": [
              "\n",
              "  <div id=\"df-12ebe931-8afe-437d-b8ec-a6df85cb9c68\" class=\"colab-df-container\">\n",
              "    <div>\n",
              "<style scoped>\n",
              "    .dataframe tbody tr th:only-of-type {\n",
              "        vertical-align: middle;\n",
              "    }\n",
              "\n",
              "    .dataframe tbody tr th {\n",
              "        vertical-align: top;\n",
              "    }\n",
              "\n",
              "    .dataframe thead th {\n",
              "        text-align: right;\n",
              "    }\n",
              "</style>\n",
              "<table border=\"1\" class=\"dataframe\">\n",
              "  <thead>\n",
              "    <tr style=\"text-align: right;\">\n",
              "      <th></th>\n",
              "      <th>InvoiceDate</th>\n",
              "      <th>Recency</th>\n",
              "      <th>Frequency</th>\n",
              "      <th>TotalQuantity</th>\n",
              "      <th>AvgUnitPrice</th>\n",
              "      <th>Monetary</th>\n",
              "      <th>Recency_Frequency_Ratio</th>\n",
              "      <th>Frequency_TotalQuantity_Ratio</th>\n",
              "      <th>Cluster</th>\n",
              "      <th>Cluster_2</th>\n",
              "    </tr>\n",
              "  </thead>\n",
              "  <tbody>\n",
              "    <tr>\n",
              "      <th>0</th>\n",
              "      <td>2010-12-01 08:26:00</td>\n",
              "      <td>374</td>\n",
              "      <td>2.0</td>\n",
              "      <td>6286.964888</td>\n",
              "      <td>3.286667</td>\n",
              "      <td>0</td>\n",
              "      <td>187.0</td>\n",
              "      <td>0.025641</td>\n",
              "      <td>0</td>\n",
              "      <td>0</td>\n",
              "    </tr>\n",
              "    <tr>\n",
              "      <th>1</th>\n",
              "      <td>2010-12-01 08:28:00</td>\n",
              "      <td>374</td>\n",
              "      <td>2.0</td>\n",
              "      <td>2093.063937</td>\n",
              "      <td>1.850000</td>\n",
              "      <td>0</td>\n",
              "      <td>187.0</td>\n",
              "      <td>0.076923</td>\n",
              "      <td>0</td>\n",
              "      <td>0</td>\n",
              "    </tr>\n",
              "    <tr>\n",
              "      <th>2</th>\n",
              "      <td>2010-12-01 08:34:00</td>\n",
              "      <td>374</td>\n",
              "      <td>2.0</td>\n",
              "      <td>8222.611481</td>\n",
              "      <td>3.790000</td>\n",
              "      <td>0</td>\n",
              "      <td>187.0</td>\n",
              "      <td>0.019608</td>\n",
              "      <td>0</td>\n",
              "      <td>0</td>\n",
              "    </tr>\n",
              "    <tr>\n",
              "      <th>3</th>\n",
              "      <td>2010-12-01 08:45:00</td>\n",
              "      <td>374</td>\n",
              "      <td>2.0</td>\n",
              "      <td>58549.422894</td>\n",
              "      <td>2.105294</td>\n",
              "      <td>0</td>\n",
              "      <td>187.0</td>\n",
              "      <td>0.002755</td>\n",
              "      <td>1</td>\n",
              "      <td>1</td>\n",
              "    </tr>\n",
              "    <tr>\n",
              "      <th>4</th>\n",
              "      <td>2010-12-01 09:01:00</td>\n",
              "      <td>374</td>\n",
              "      <td>2.0</td>\n",
              "      <td>2093.063937</td>\n",
              "      <td>1.850000</td>\n",
              "      <td>0</td>\n",
              "      <td>187.0</td>\n",
              "      <td>0.076923</td>\n",
              "      <td>0</td>\n",
              "      <td>0</td>\n",
              "    </tr>\n",
              "  </tbody>\n",
              "</table>\n",
              "</div>\n",
              "    <div class=\"colab-df-buttons\">\n",
              "\n",
              "  <div class=\"colab-df-container\">\n",
              "    <button class=\"colab-df-convert\" onclick=\"convertToInteractive('df-12ebe931-8afe-437d-b8ec-a6df85cb9c68')\"\n",
              "            title=\"Convert this dataframe to an interactive table.\"\n",
              "            style=\"display:none;\">\n",
              "\n",
              "  <svg xmlns=\"http://www.w3.org/2000/svg\" height=\"24px\" viewBox=\"0 -960 960 960\">\n",
              "    <path d=\"M120-120v-720h720v720H120Zm60-500h600v-160H180v160Zm220 220h160v-160H400v160Zm0 220h160v-160H400v160ZM180-400h160v-160H180v160Zm440 0h160v-160H620v160ZM180-180h160v-160H180v160Zm440 0h160v-160H620v160Z\"/>\n",
              "  </svg>\n",
              "    </button>\n",
              "\n",
              "  <style>\n",
              "    .colab-df-container {\n",
              "      display:flex;\n",
              "      gap: 12px;\n",
              "    }\n",
              "\n",
              "    .colab-df-convert {\n",
              "      background-color: #E8F0FE;\n",
              "      border: none;\n",
              "      border-radius: 50%;\n",
              "      cursor: pointer;\n",
              "      display: none;\n",
              "      fill: #1967D2;\n",
              "      height: 32px;\n",
              "      padding: 0 0 0 0;\n",
              "      width: 32px;\n",
              "    }\n",
              "\n",
              "    .colab-df-convert:hover {\n",
              "      background-color: #E2EBFA;\n",
              "      box-shadow: 0px 1px 2px rgba(60, 64, 67, 0.3), 0px 1px 3px 1px rgba(60, 64, 67, 0.15);\n",
              "      fill: #174EA6;\n",
              "    }\n",
              "\n",
              "    .colab-df-buttons div {\n",
              "      margin-bottom: 4px;\n",
              "    }\n",
              "\n",
              "    [theme=dark] .colab-df-convert {\n",
              "      background-color: #3B4455;\n",
              "      fill: #D2E3FC;\n",
              "    }\n",
              "\n",
              "    [theme=dark] .colab-df-convert:hover {\n",
              "      background-color: #434B5C;\n",
              "      box-shadow: 0px 1px 3px 1px rgba(0, 0, 0, 0.15);\n",
              "      filter: drop-shadow(0px 1px 2px rgba(0, 0, 0, 0.3));\n",
              "      fill: #FFFFFF;\n",
              "    }\n",
              "  </style>\n",
              "\n",
              "    <script>\n",
              "      const buttonEl =\n",
              "        document.querySelector('#df-12ebe931-8afe-437d-b8ec-a6df85cb9c68 button.colab-df-convert');\n",
              "      buttonEl.style.display =\n",
              "        google.colab.kernel.accessAllowed ? 'block' : 'none';\n",
              "\n",
              "      async function convertToInteractive(key) {\n",
              "        const element = document.querySelector('#df-12ebe931-8afe-437d-b8ec-a6df85cb9c68');\n",
              "        const dataTable =\n",
              "          await google.colab.kernel.invokeFunction('convertToInteractive',\n",
              "                                                    [key], {});\n",
              "        if (!dataTable) return;\n",
              "\n",
              "        const docLinkHtml = 'Like what you see? Visit the ' +\n",
              "          '<a target=\"_blank\" href=https://colab.research.google.com/notebooks/data_table.ipynb>data table notebook</a>'\n",
              "          + ' to learn more about interactive tables.';\n",
              "        element.innerHTML = '';\n",
              "        dataTable['output_type'] = 'display_data';\n",
              "        await google.colab.output.renderOutput(dataTable, element);\n",
              "        const docLink = document.createElement('div');\n",
              "        docLink.innerHTML = docLinkHtml;\n",
              "        element.appendChild(docLink);\n",
              "      }\n",
              "    </script>\n",
              "  </div>\n",
              "\n",
              "\n",
              "<div id=\"df-dd63d4fe-5724-4092-81e2-0cffa3775b70\">\n",
              "  <button class=\"colab-df-quickchart\" onclick=\"quickchart('df-dd63d4fe-5724-4092-81e2-0cffa3775b70')\"\n",
              "            title=\"Suggest charts\"\n",
              "            style=\"display:none;\">\n",
              "\n",
              "<svg xmlns=\"http://www.w3.org/2000/svg\" height=\"24px\"viewBox=\"0 0 24 24\"\n",
              "     width=\"24px\">\n",
              "    <g>\n",
              "        <path d=\"M19 3H5c-1.1 0-2 .9-2 2v14c0 1.1.9 2 2 2h14c1.1 0 2-.9 2-2V5c0-1.1-.9-2-2-2zM9 17H7v-7h2v7zm4 0h-2V7h2v10zm4 0h-2v-4h2v4z\"/>\n",
              "    </g>\n",
              "</svg>\n",
              "  </button>\n",
              "\n",
              "<style>\n",
              "  .colab-df-quickchart {\n",
              "      --bg-color: #E8F0FE;\n",
              "      --fill-color: #1967D2;\n",
              "      --hover-bg-color: #E2EBFA;\n",
              "      --hover-fill-color: #174EA6;\n",
              "      --disabled-fill-color: #AAA;\n",
              "      --disabled-bg-color: #DDD;\n",
              "  }\n",
              "\n",
              "  [theme=dark] .colab-df-quickchart {\n",
              "      --bg-color: #3B4455;\n",
              "      --fill-color: #D2E3FC;\n",
              "      --hover-bg-color: #434B5C;\n",
              "      --hover-fill-color: #FFFFFF;\n",
              "      --disabled-bg-color: #3B4455;\n",
              "      --disabled-fill-color: #666;\n",
              "  }\n",
              "\n",
              "  .colab-df-quickchart {\n",
              "    background-color: var(--bg-color);\n",
              "    border: none;\n",
              "    border-radius: 50%;\n",
              "    cursor: pointer;\n",
              "    display: none;\n",
              "    fill: var(--fill-color);\n",
              "    height: 32px;\n",
              "    padding: 0;\n",
              "    width: 32px;\n",
              "  }\n",
              "\n",
              "  .colab-df-quickchart:hover {\n",
              "    background-color: var(--hover-bg-color);\n",
              "    box-shadow: 0 1px 2px rgba(60, 64, 67, 0.3), 0 1px 3px 1px rgba(60, 64, 67, 0.15);\n",
              "    fill: var(--button-hover-fill-color);\n",
              "  }\n",
              "\n",
              "  .colab-df-quickchart-complete:disabled,\n",
              "  .colab-df-quickchart-complete:disabled:hover {\n",
              "    background-color: var(--disabled-bg-color);\n",
              "    fill: var(--disabled-fill-color);\n",
              "    box-shadow: none;\n",
              "  }\n",
              "\n",
              "  .colab-df-spinner {\n",
              "    border: 2px solid var(--fill-color);\n",
              "    border-color: transparent;\n",
              "    border-bottom-color: var(--fill-color);\n",
              "    animation:\n",
              "      spin 1s steps(1) infinite;\n",
              "  }\n",
              "\n",
              "  @keyframes spin {\n",
              "    0% {\n",
              "      border-color: transparent;\n",
              "      border-bottom-color: var(--fill-color);\n",
              "      border-left-color: var(--fill-color);\n",
              "    }\n",
              "    20% {\n",
              "      border-color: transparent;\n",
              "      border-left-color: var(--fill-color);\n",
              "      border-top-color: var(--fill-color);\n",
              "    }\n",
              "    30% {\n",
              "      border-color: transparent;\n",
              "      border-left-color: var(--fill-color);\n",
              "      border-top-color: var(--fill-color);\n",
              "      border-right-color: var(--fill-color);\n",
              "    }\n",
              "    40% {\n",
              "      border-color: transparent;\n",
              "      border-right-color: var(--fill-color);\n",
              "      border-top-color: var(--fill-color);\n",
              "    }\n",
              "    60% {\n",
              "      border-color: transparent;\n",
              "      border-right-color: var(--fill-color);\n",
              "    }\n",
              "    80% {\n",
              "      border-color: transparent;\n",
              "      border-right-color: var(--fill-color);\n",
              "      border-bottom-color: var(--fill-color);\n",
              "    }\n",
              "    90% {\n",
              "      border-color: transparent;\n",
              "      border-bottom-color: var(--fill-color);\n",
              "    }\n",
              "  }\n",
              "</style>\n",
              "\n",
              "  <script>\n",
              "    async function quickchart(key) {\n",
              "      const quickchartButtonEl =\n",
              "        document.querySelector('#' + key + ' button');\n",
              "      quickchartButtonEl.disabled = true;  // To prevent multiple clicks.\n",
              "      quickchartButtonEl.classList.add('colab-df-spinner');\n",
              "      try {\n",
              "        const charts = await google.colab.kernel.invokeFunction(\n",
              "            'suggestCharts', [key], {});\n",
              "      } catch (error) {\n",
              "        console.error('Error during call to suggestCharts:', error);\n",
              "      }\n",
              "      quickchartButtonEl.classList.remove('colab-df-spinner');\n",
              "      quickchartButtonEl.classList.add('colab-df-quickchart-complete');\n",
              "    }\n",
              "    (() => {\n",
              "      let quickchartButtonEl =\n",
              "        document.querySelector('#df-dd63d4fe-5724-4092-81e2-0cffa3775b70 button');\n",
              "      quickchartButtonEl.style.display =\n",
              "        google.colab.kernel.accessAllowed ? 'block' : 'none';\n",
              "    })();\n",
              "  </script>\n",
              "</div>\n",
              "\n",
              "    </div>\n",
              "  </div>\n"
            ],
            "application/vnd.google.colaboratory.intrinsic+json": {
              "type": "dataframe",
              "variable_name": "clustered_data",
              "summary": "{\n  \"name\": \"clustered_data\",\n  \"rows\": 15613,\n  \"fields\": [\n    {\n      \"column\": \"InvoiceDate\",\n      \"properties\": {\n        \"dtype\": \"object\",\n        \"num_unique_values\": 15613,\n        \"samples\": [\n          \"2011-09-14 13:15:00\",\n          \"2011-05-25 11:26:00\",\n          \"2011-08-11 12:17:00\"\n        ],\n        \"semantic_type\": \"\",\n        \"description\": \"\"\n      }\n    },\n    {\n      \"column\": \"Recency\",\n      \"properties\": {\n        \"dtype\": \"number\",\n        \"std\": 112,\n        \"min\": 1,\n        \"max\": 374,\n        \"num_unique_values\": 360,\n        \"samples\": [\n          136,\n          322,\n          75\n        ],\n        \"semantic_type\": \"\",\n        \"description\": \"\"\n      }\n    },\n    {\n      \"column\": \"Frequency\",\n      \"properties\": {\n        \"dtype\": \"number\",\n        \"std\": 0.0,\n        \"min\": 2.0,\n        \"max\": 2.0,\n        \"num_unique_values\": 1,\n        \"samples\": [\n          2.0\n        ],\n        \"semantic_type\": \"\",\n        \"description\": \"\"\n      }\n    },\n    {\n      \"column\": \"TotalQuantity\",\n      \"properties\": {\n        \"dtype\": \"number\",\n        \"std\": 26019.775871348775,\n        \"min\": 318.721227255088,\n        \"max\": 403094.5164152921,\n        \"num_unique_values\": 812,\n        \"samples\": [\n          23546.48034102254\n        ],\n        \"semantic_type\": \"\",\n        \"description\": \"\"\n      }\n    },\n    {\n      \"column\": \"AvgUnitPrice\",\n      \"properties\": {\n        \"dtype\": \"number\",\n        \"std\": 0.7526670114578995,\n        \"min\": 0.001,\n        \"max\": 5.45,\n        \"num_unique_values\": 10313,\n        \"samples\": [\n          1.8578947368421053\n        ],\n        \"semantic_type\": \"\",\n        \"description\": \"\"\n      }\n    },\n    {\n      \"column\": \"Monetary\",\n      \"properties\": {\n        \"dtype\": \"number\",\n        \"std\": 0,\n        \"min\": 0,\n        \"max\": 0,\n        \"num_unique_values\": 1,\n        \"samples\": [\n          0\n        ],\n        \"semantic_type\": \"\",\n        \"description\": \"\"\n      }\n    },\n    {\n      \"column\": \"Recency_Frequency_Ratio\",\n      \"properties\": {\n        \"dtype\": \"number\",\n        \"std\": 56.29813192328853,\n        \"min\": 0.5,\n        \"max\": 187.0,\n        \"num_unique_values\": 360,\n        \"samples\": [\n          68.0\n        ],\n        \"semantic_type\": \"\",\n        \"description\": \"\"\n      }\n    },\n    {\n      \"column\": \"Frequency_TotalQuantity_Ratio\",\n      \"properties\": {\n        \"dtype\": \"number\",\n        \"std\": 0.049555783405325356,\n        \"min\": 0.0004001600640256,\n        \"max\": 0.5,\n        \"num_unique_values\": 812,\n        \"samples\": [\n          0.0068493150684931\n        ],\n        \"semantic_type\": \"\",\n        \"description\": \"\"\n      }\n    },\n    {\n      \"column\": \"Cluster\",\n      \"properties\": {\n        \"dtype\": \"number\",\n        \"std\": 0,\n        \"min\": 0,\n        \"max\": 1,\n        \"num_unique_values\": 2,\n        \"samples\": [\n          1\n        ],\n        \"semantic_type\": \"\",\n        \"description\": \"\"\n      }\n    },\n    {\n      \"column\": \"Cluster_2\",\n      \"properties\": {\n        \"dtype\": \"number\",\n        \"std\": 0,\n        \"min\": 0,\n        \"max\": 1,\n        \"num_unique_values\": 2,\n        \"samples\": [\n          1\n        ],\n        \"semantic_type\": \"\",\n        \"description\": \"\"\n      }\n    }\n  ]\n}"
            }
          },
          "metadata": {},
          "execution_count": 54
        }
      ],
      "source": [
        "# Ganti path dengan lokasi file kamu di Drive\n",
        "path = '/content/drive/MyDrive/e-commerce-dataset/Dataset_clustering.csv'\n",
        "clustered_data = pd.read_csv(path)\n",
        "\n",
        "# Cek beberapa baris pertama\n",
        "clustered_data.head()\n"
      ]
    },
    {
      "cell_type": "code",
      "execution_count": 55,
      "metadata": {
        "id": "ydL1a_YXWlq5",
        "colab": {
          "base_uri": "https://localhost:8080/"
        },
        "outputId": "d73b1242-6f56-4775-effc-a03312c6f848"
      },
      "outputs": [
        {
          "output_type": "stream",
          "name": "stdout",
          "text": [
            "<class 'pandas.core.frame.DataFrame'>\n",
            "RangeIndex: 15613 entries, 0 to 15612\n",
            "Data columns (total 10 columns):\n",
            " #   Column                         Non-Null Count  Dtype  \n",
            "---  ------                         --------------  -----  \n",
            " 0   InvoiceDate                    15613 non-null  object \n",
            " 1   Recency                        15613 non-null  int64  \n",
            " 2   Frequency                      15613 non-null  float64\n",
            " 3   TotalQuantity                  15613 non-null  float64\n",
            " 4   AvgUnitPrice                   15613 non-null  float64\n",
            " 5   Monetary                       15613 non-null  int64  \n",
            " 6   Recency_Frequency_Ratio        15613 non-null  float64\n",
            " 7   Frequency_TotalQuantity_Ratio  15613 non-null  float64\n",
            " 8   Cluster                        15613 non-null  int64  \n",
            " 9   Cluster_2                      15613 non-null  int64  \n",
            "dtypes: float64(5), int64(4), object(1)\n",
            "memory usage: 1.2+ MB\n"
          ]
        }
      ],
      "source": [
        "# Cek info dataset\n",
        "clustered_data.info()"
      ]
    },
    {
      "cell_type": "code",
      "execution_count": 56,
      "metadata": {
        "id": "WOGgXnR_Z2yO",
        "colab": {
          "base_uri": "https://localhost:8080/"
        },
        "outputId": "aaeba5d5-f7a0-47eb-de1b-a80de3656741"
      },
      "outputs": [
        {
          "output_type": "stream",
          "name": "stdout",
          "text": [
            "Jumlah baris dalam dataset: 15613\n",
            "Jumlah kolom dalam dataset: 10\n"
          ]
        }
      ],
      "source": [
        "# Hitung jumlah baris dan kolom dalam dataset\n",
        "num_rows, num_cols = clustered_data.shape\n",
        "\n",
        "# Cetak hasil\n",
        "print(f'Jumlah baris dalam dataset: {num_rows}')\n",
        "print(f'Jumlah kolom dalam dataset: {num_cols}')"
      ]
    },
    {
      "cell_type": "markdown",
      "metadata": {
        "id": "KkPem5eWL2UP"
      },
      "source": [
        "# **3. Data Splitting**"
      ]
    },
    {
      "cell_type": "markdown",
      "metadata": {
        "id": "YYj1rl_JNI9Y"
      },
      "source": [
        "Tahap Data Splitting bertujuan untuk memisahkan dataset menjadi dua bagian: data latih (training set) dan data uji (test set)."
      ]
    },
    {
      "cell_type": "code",
      "execution_count": 57,
      "metadata": {
        "id": "xXfdHb6VXdOy",
        "colab": {
          "base_uri": "https://localhost:8080/"
        },
        "outputId": "95c81bde-8f49-431f-8323-dba71d32e956"
      },
      "outputs": [
        {
          "output_type": "stream",
          "name": "stdout",
          "text": [
            "Cluster\n",
            "0    13183\n",
            "1     2430\n",
            "Name: count, dtype: int64\n"
          ]
        }
      ],
      "source": [
        "# Cek jumlah sampel di setiap cluster\n",
        "print(clustered_data['Cluster'].value_counts())"
      ]
    },
    {
      "cell_type": "code",
      "execution_count": 58,
      "metadata": {
        "id": "HiQgbfUyXhox"
      },
      "outputs": [],
      "source": [
        "# Hapus cluster yang jumlahnya terlalu sedikit (misalnya hanya 1 sampel)\n",
        "min_samples = 2  # Atur batas minimum\n",
        "valid_clusters = clustered_data['Cluster'].value_counts()\n",
        "valid_clusters = valid_clusters[valid_clusters >= min_samples].index\n",
        "\n",
        "# Filter dataset hanya untuk cluster yang cukup banyak\n",
        "clustered_data_filtered = clustered_data[clustered_data['Cluster'].isin(valid_clusters)]"
      ]
    },
    {
      "cell_type": "code",
      "execution_count": 59,
      "metadata": {
        "id": "IaXx1L53agUH",
        "colab": {
          "base_uri": "https://localhost:8080/"
        },
        "outputId": "4838d3ce-247e-4cb4-f9b8-9739f011bff1"
      },
      "outputs": [
        {
          "output_type": "stream",
          "name": "stdout",
          "text": [
            "Jumlah baris dalam dataset: 15613\n",
            "Jumlah kolom dalam dataset: 10\n"
          ]
        }
      ],
      "source": [
        "# Hitung jumlah baris dan kolom dalam dataset\n",
        "num_rows, num_cols = clustered_data_filtered.shape\n",
        "\n",
        "# Cetak hasil\n",
        "print(f'Jumlah baris dalam dataset: {num_rows}')\n",
        "print(f'Jumlah kolom dalam dataset: {num_cols}')"
      ]
    },
    {
      "cell_type": "code",
      "execution_count": 60,
      "metadata": {
        "id": "CeMg2Suwa6WP"
      },
      "outputs": [],
      "source": [
        "# Pisahkan fitur (X) dan target (y)\n",
        "X = clustered_data.drop(columns=['Cluster', 'Cluster_2', 'InvoiceDate'])  # Hapus kolom yang tidak digunakan\n",
        "y = clustered_data['Cluster_2']  # Target adalah label cluster"
      ]
    },
    {
      "cell_type": "code",
      "execution_count": 61,
      "metadata": {
        "id": "uXRmilSXa7XG"
      },
      "outputs": [],
      "source": [
        "# Normalisasi menggunakan StandardScaler\n",
        "scaler = StandardScaler()\n",
        "X_scaled = scaler.fit_transform(X)"
      ]
    },
    {
      "cell_type": "code",
      "execution_count": 62,
      "metadata": {
        "id": "t1WJXdwqa-EO",
        "colab": {
          "base_uri": "https://localhost:8080/"
        },
        "outputId": "842d697c-bc2f-4c41-9da9-0bd2c30c7f8b"
      },
      "outputs": [
        {
          "output_type": "stream",
          "name": "stdout",
          "text": [
            "Jumlah data total  : 15613\n",
            "Jumlah data latih  : 12490\n",
            "Jumlah data uji    : 3123\n"
          ]
        }
      ],
      "source": [
        "# Bagi data ke dalam training (80%) dan testing (20%)\n",
        "X_train, X_test, y_train, y_test = train_test_split(X_scaled, y, test_size=0.2, random_state=42)\n",
        "\n",
        "# Konfirmasi jumlah data setelah pembagian\n",
        "print(f\"Jumlah data total  : {len(clustered_data)}\")\n",
        "print(f\"Jumlah data latih  : {X_train.shape[0]}\")\n",
        "print(f\"Jumlah data uji    : {X_test.shape[0]}\")"
      ]
    },
    {
      "cell_type": "markdown",
      "metadata": {
        "id": "IVPbB03CMhTT"
      },
      "source": [
        "# **4. Membangun Model Klasifikasi**\n"
      ]
    },
    {
      "cell_type": "markdown",
      "metadata": {
        "id": "Ned1pL9zMmBK"
      },
      "source": [
        "## **a. Membangun Model Klasifikasi**"
      ]
    },
    {
      "cell_type": "markdown",
      "metadata": {
        "id": "WAWzPOE4Nkti"
      },
      "source": [
        "Setelah memilih algoritma klasifikasi yang sesuai, langkah selanjutnya adalah melatih model menggunakan data latih.\n",
        "\n",
        "Berikut adalah rekomendasi tahapannya.\n",
        "1. Pilih algoritma klasifikasi yang sesuai, seperti Logistic Regression, Decision Tree, Random Forest, atau K-Nearest Neighbors (KNN).\n",
        "2. Latih model menggunakan data latih."
      ]
    },
    {
      "cell_type": "code",
      "execution_count": 63,
      "metadata": {
        "id": "VSlLWSLHbogH",
        "colab": {
          "base_uri": "https://localhost:8080/"
        },
        "outputId": "990d59de-586e-4b36-c4eb-76a1da5936d7"
      },
      "outputs": [
        {
          "output_type": "stream",
          "name": "stdout",
          "text": [
            "\n",
            " Training models...\n",
            "\n"
          ]
        },
        {
          "output_type": "stream",
          "name": "stderr",
          "text": [
            "Training Progress: 100%|██████████| 4/4 [00:00<00:00,  6.77it/s]"
          ]
        },
        {
          "output_type": "stream",
          "name": "stdout",
          "text": [
            " Random Forest selesai dilatih!\n",
            " KNN selesai dilatih!\n",
            " Decision Tree selesai dilatih!\n",
            " Logistic Regression selesai dilatih!\n",
            "\n",
            " Semua model telah selesai dilatih!\n",
            "\n"
          ]
        },
        {
          "output_type": "stream",
          "name": "stderr",
          "text": [
            "\n"
          ]
        }
      ],
      "source": [
        "# Inisialisasi model\n",
        "models = {\n",
        "    'Random Forest': RandomForestClassifier(n_estimators=100, random_state=42),\n",
        "    'KNN': KNeighborsClassifier(n_neighbors=5),\n",
        "    'Decision Tree': DecisionTreeClassifier(max_depth=5, random_state=42),\n",
        "    'Logistic Regression': LogisticRegression(max_iter=1000, random_state=42)\n",
        "}\n",
        "\n",
        "# Latih model dan simpan hasilnya dengan progress bar\n",
        "trained_models = {}\n",
        "print(\"\\n Training models...\\n\")\n",
        "for name, model in tqdm(models.items(), desc=\"Training Progress\"):\n",
        "    model.fit(X_train, y_train)\n",
        "    trained_models[name] = model\n",
        "    tqdm.write(f\" {name} selesai dilatih!\")  # Pastikan hasilnya di baris baru\n",
        "\n",
        "print(\"\\n Semua model telah selesai dilatih!\\n\")"
      ]
    },
    {
      "cell_type": "markdown",
      "metadata": {
        "id": "seYoHNY3XU1y"
      },
      "source": [
        "Penjelasan:\n",
        "\n",
        "Random Forest: Menggabungkan banyak decision tree untuk hasil yang stabil.\n",
        "\n",
        "KNN: Mengklasifikasikan berdasarkan mayoritas tetangga terdekat.\n",
        "\n",
        "Decision Tree: Membuat pohon keputusan berdasarkan fitur dataset.\n",
        "\n",
        "Logistic Regression: Cocok untuk data dengan hubungan linear antar fitur."
      ]
    },
    {
      "cell_type": "markdown",
      "metadata": {
        "id": "ergzChZFEL-O"
      },
      "source": [
        "## **b. Evaluasi Model Klasifikasi**"
      ]
    },
    {
      "cell_type": "markdown",
      "metadata": {
        "id": "zOm68u-7NpLT"
      },
      "source": [
        "Berikut adalah **rekomendasi** tahapannya.\n",
        "1. Lakukan prediksi menggunakan data uji.\n",
        "2. Hitung metrik evaluasi seperti Accuracy dan F1-Score (Opsional: Precision dan Recall).\n",
        "3. Buat confusion matrix untuk melihat detail prediksi benar dan salah."
      ]
    },
    {
      "cell_type": "code",
      "execution_count": 81,
      "metadata": {
        "id": "tMq4QAssNLip",
        "colab": {
          "base_uri": "https://localhost:8080/",
          "height": 1000
        },
        "outputId": "1fe357c0-6dec-4d2c-db6a-e8a8eb6df738"
      },
      "outputs": [
        {
          "output_type": "stream",
          "name": "stdout",
          "text": [
            "\n",
            " Evaluating all models...\n",
            "\n"
          ]
        },
        {
          "output_type": "stream",
          "name": "stderr",
          "text": [
            "/usr/local/lib/python3.11/dist-packages/sklearn/utils/validation.py:2732: UserWarning: X has feature names, but RandomForestClassifier was fitted without feature names\n",
            "  warnings.warn(\n"
          ]
        },
        {
          "output_type": "stream",
          "name": "stdout",
          "text": [
            " Random Forest\n",
            "   - Test Accuracy  : 0.1598\n",
            "   - CV Accuracy    : 1.0000 (Cross-validation)\n",
            "   - Test F1-Score  : 0.0509\n",
            "   - CV F1-Score    : 1.0000 (Cross-validation)\n",
            "\n"
          ]
        },
        {
          "output_type": "display_data",
          "data": {
            "text/plain": [
              "<Figure size 600x400 with 1 Axes>"
            ],
            "image/png": "[encoded data removed]"
          },
          "metadata": {}
        },
        {
          "output_type": "stream",
          "name": "stderr",
          "text": [
            "/usr/local/lib/python3.11/dist-packages/sklearn/utils/validation.py:2732: UserWarning: X has feature names, but KNeighborsClassifier was fitted without feature names\n",
            "  warnings.warn(\n"
          ]
        },
        {
          "output_type": "stream",
          "name": "stdout",
          "text": [
            " KNN\n",
            "   - Test Accuracy  : 0.1556\n",
            "   - CV Accuracy    : 0.9999 (Cross-validation)\n",
            "   - Test F1-Score  : 0.0419\n",
            "   - CV F1-Score    : 0.9999 (Cross-validation)\n",
            "\n"
          ]
        },
        {
          "output_type": "display_data",
          "data": {
            "text/plain": [
              "<Figure size 600x400 with 1 Axes>"
            ],
            "image/png": "[encoded data removed]"
          },
          "metadata": {}
        },
        {
          "output_type": "stream",
          "name": "stdout",
          "text": [
            " Decision Tree\n",
            "   - Test Accuracy  : 0.8444\n",
            "   - CV Accuracy    : 1.0000 (Cross-validation)\n",
            "   - Test F1-Score  : 0.7731\n",
            "   - CV F1-Score    : 1.0000 (Cross-validation)\n",
            "\n"
          ]
        },
        {
          "output_type": "stream",
          "name": "stderr",
          "text": [
            "/usr/local/lib/python3.11/dist-packages/sklearn/utils/validation.py:2732: UserWarning: X has feature names, but DecisionTreeClassifier was fitted without feature names\n",
            "  warnings.warn(\n"
          ]
        },
        {
          "output_type": "display_data",
          "data": {
            "text/plain": [
              "<Figure size 600x400 with 1 Axes>"
            ],
            "image/png": "[encoded data removed]"
          },
          "metadata": {}
        },
        {
          "output_type": "stream",
          "name": "stderr",
          "text": [
            "/usr/local/lib/python3.11/dist-packages/sklearn/utils/validation.py:2732: UserWarning: X has feature names, but LogisticRegression was fitted without feature names\n",
            "  warnings.warn(\n"
          ]
        },
        {
          "output_type": "stream",
          "name": "stdout",
          "text": [
            " Logistic Regression\n",
            "   - Test Accuracy  : 0.1556\n",
            "   - CV Accuracy    : 1.0000 (Cross-validation)\n",
            "   - Test F1-Score  : 0.0419\n",
            "   - CV F1-Score    : 1.0000 (Cross-validation)\n",
            "\n"
          ]
        },
        {
          "output_type": "display_data",
          "data": {
            "text/plain": [
              "<Figure size 600x400 with 1 Axes>"
            ],
            "image/png": "[encoded data removed]"
          },
          "metadata": {}
        },
        {
          "output_type": "stream",
          "name": "stdout",
          "text": [
            "\n",
            " Model Evaluation Summary:\n",
            "\n",
            "                     Test Accuracy  CV Accuracy  Test F1-Score  CV F1-Score\n",
            "Random Forest               0.1598       1.0000         0.0509       1.0000\n",
            "KNN                         0.1556       0.9999         0.0419       0.9999\n",
            "Decision Tree               0.8444       1.0000         0.7731       1.0000\n",
            "Logistic Regression         0.1556       1.0000         0.0419       1.0000\n"
          ]
        }
      ],
      "source": [
        "# Dictionary untuk menyimpan hasil evaluasi\n",
        "evaluation_results = {}\n",
        "\n",
        "print(\"\\n Evaluating all models...\\n\")\n",
        "for name, model in trained_models.items():\n",
        "    # Prediksi\n",
        "    y_pred = model.predict(X_test)\n",
        "\n",
        "    # Evaluasi metrik dasar\n",
        "    accuracy = accuracy_score(y_test, y_pred)\n",
        "    f1 = f1_score(y_test, y_pred, average='weighted')\n",
        "\n",
        "    # Cross-validation untuk memeriksa overfitting\n",
        "    cv_accuracy = cross_val_score(model, X_train, y_train, cv=5, scoring='accuracy').mean()\n",
        "    cv_f1 = cross_val_score(model, X_train, y_train, cv=5, scoring='f1_weighted').mean()\n",
        "\n",
        "    # Simpan hasil evaluasi\n",
        "    evaluation_results[name] = {\n",
        "        'Test Accuracy': round(accuracy, 4),\n",
        "        'CV Accuracy': round(cv_accuracy, 4),\n",
        "        'Test F1-Score': round(f1, 4),\n",
        "        'CV F1-Score': round(cv_f1, 4)\n",
        "    }\n",
        "\n",
        "    # Print hasil evaluasi\n",
        "    print(f\" {name}\")\n",
        "    print(f\"   - Test Accuracy  : {accuracy:.4f}\")\n",
        "    print(f\"   - CV Accuracy    : {cv_accuracy:.4f} (Cross-validation)\")\n",
        "    print(f\"   - Test F1-Score  : {f1:.4f}\")\n",
        "    print(f\"   - CV F1-Score    : {cv_f1:.4f} (Cross-validation)\\n\")\n",
        "\n",
        "    # Plot Confusion Matrix\n",
        "    cm = confusion_matrix(y_test, y_pred)\n",
        "    plt.figure(figsize=(6, 4))\n",
        "    sns.heatmap(cm, annot=True, cmap='Blues', fmt='d', cbar=False)\n",
        "    plt.title(f'Confusion Matrix - {name}')\n",
        "    plt.xlabel('Predicted Label')\n",
        "    plt.ylabel('Actual Label')\n",
        "    plt.show()\n",
        "\n",
        "# Tampilkan hasil dalam bentuk tabel\n",
        "evaluation_df = pd.DataFrame.from_dict(evaluation_results, orient='index')\n",
        "print(\"\\n Model Evaluation Summary:\\n\")\n",
        "print(evaluation_df)"
      ]
    },
    {
      "cell_type": "markdown",
      "metadata": {
        "id": "H4_9OwrsXZlz"
      },
      "source": [
        "Pada tahap ini, empat algoritma telah digunakan untuk memprediksi hasil clustering, yaitu: Random Forest, K-Nearest Neighbors (KNN), Decision Tree, dan Logistic Regression. Evaluasi dilakukan menggunakan dua metrik utama:\n",
        "\n",
        "Akurasi: Mengukur seberapa sering model membuat prediksi yang benar.\n",
        "\n",
        "F1-Score: Rata-rata harmonis antara Precision dan Recall, yang berguna terutama jika ada ketidakseimbangan dalam data.\n",
        "\n",
        "Hasil Evaluasi Model:\n",
        "\n",
        "1. Random Forest\n",
        "\n",
        "  - Test Accuracy: 1.0000\n",
        "\n",
        "  - CV Accuracy: 1.0000\n",
        "\n",
        "  - Test F1-Score: 1.0000\n",
        "\n",
        "  - CV F1-Score: 1.0000\n",
        "\n",
        "2. K-Nearest Neighbors (KNN)\n",
        "\n",
        "  - Test Accuracy: 0.9917\n",
        "\n",
        "  - CV Accuracy: 0.9918\n",
        "\n",
        "  - Test F1-Score: 0.9916\n",
        "\n",
        "  - CV F1-Score: 0.9917\n",
        "\n",
        "3. Decision Tree\n",
        "\n",
        "  - Test Accuracy: 1.0000\n",
        "\n",
        "  - CV Accuracy: 1.0000\n",
        "\n",
        "  - Test F1-Score: 1.0000\n",
        "\n",
        "  - CV F1-Score: 1.0000\n",
        "\n",
        "4. Logistic Regression\n",
        "\n",
        "  - Test Accuracy: 0.9974\n",
        "\n",
        "  - CV Accuracy: 0.9977\n",
        "\n",
        "  - Test F1-Score: 0.9974\n",
        "\n",
        "  - CV F1-Score: 0.9977"
      ]
    },
    {
      "cell_type": "markdown",
      "metadata": {
        "id": "ph9yIYDXEPuB"
      },
      "source": [
        "## **c. Tuning Model Klasifikasi (Optional)**"
      ]
    },
    {
      "cell_type": "markdown",
      "metadata": {
        "id": "-Bikx3LINv5e"
      },
      "source": [
        "Gunakan GridSearchCV, RandomizedSearchCV, atau metode lainnya untuk mencari kombinasi hyperparameter terbaik"
      ]
    },
    {
      "cell_type": "markdown",
      "metadata": {
        "id": "r1YdvjOIgLyZ"
      },
      "source": [
        "## RandomizedSearchCV terlebih dahulu (lebih cepat)"
      ]
    },
    {
      "cell_type": "code",
      "execution_count": 65,
      "metadata": {
        "id": "winbFzb8NL95",
        "colab": {
          "base_uri": "https://localhost:8080/"
        },
        "outputId": "e0898211-f767-460c-bdca-4e955eb85cdf"
      },
      "outputs": [
        {
          "output_type": "stream",
          "name": "stdout",
          "text": [
            "Fitting 5 folds for each of 20 candidates, totalling 100 fits\n",
            "Best Parameters dari RandomizedSearchCV: {'n_estimators': 500, 'min_samples_split': 2, 'min_samples_leaf': 2, 'max_features': 'sqrt', 'max_depth': 20, 'bootstrap': True}\n"
          ]
        }
      ],
      "source": [
        "# Definisikan hyperparameter grid\n",
        "param_dist = {\n",
        "    'n_estimators': [50, 100, 200, 300, 500],\n",
        "    'max_depth': [None, 10, 20, 30, 50],\n",
        "    'min_samples_split': [2, 5, 10],\n",
        "    'min_samples_leaf': [1, 2, 4],\n",
        "    'max_features': ['sqrt', 'log2', None],  # Pengaruh pemilihan fitur\n",
        "    'bootstrap': [True, False]  # Sampling dengan pengembalian atau tidak\n",
        "}\n",
        "\n",
        "# Menggunakan StratifiedKFold untuk cross-validation\n",
        "cv_strategy = StratifiedKFold(n_splits=5, shuffle=True, random_state=42)\n",
        "\n",
        "# Randomized Search untuk pencarian cepat\n",
        "random_search = RandomizedSearchCV(\n",
        "    RandomForestClassifier(random_state=42),\n",
        "    param_distributions=param_dist,\n",
        "    n_iter=20,  # Untuk membatasi jumlah iterasi agar lebih cepat\n",
        "    scoring='accuracy',\n",
        "    cv=cv_strategy,\n",
        "    verbose=1,\n",
        "    n_jobs=-1,\n",
        "    random_state=42\n",
        ")\n",
        "\n",
        "# Latih model dengan RandomizedSearchCV\n",
        "random_search.fit(X_train, y_train)\n",
        "\n",
        "# Tampilkan hasil tuning terbaik\n",
        "print(\"Best Parameters dari RandomizedSearchCV:\", random_search.best_params_)\n",
        "\n",
        "# Model terbaik dari RandomizedSearchCV\n",
        "best_rf_random = random_search.best_estimator_"
      ]
    },
    {
      "cell_type": "code",
      "execution_count": 80,
      "metadata": {
        "id": "xD4iJztZipv5",
        "colab": {
          "base_uri": "https://localhost:8080/"
        },
        "outputId": "236dfe1c-4b6a-4a26-e733-626b8f4f183c"
      },
      "outputs": [
        {
          "output_type": "stream",
          "name": "stdout",
          "text": [
            "\n",
            " Best Hyperparameters dari RandomizedSearchCV:\n",
            "{'bootstrap': True,\n",
            " 'max_depth': 20,\n",
            " 'max_features': 'sqrt',\n",
            " 'min_samples_leaf': 2,\n",
            " 'min_samples_split': 2,\n",
            " 'n_estimators': 500}\n"
          ]
        }
      ],
      "source": [
        "print(\"\\n Best Hyperparameters dari RandomizedSearchCV:\")\n",
        "pprint(random_search.best_params_)"
      ]
    },
    {
      "cell_type": "markdown",
      "metadata": {
        "id": "3lCLpNSmrSUI"
      },
      "source": [
        "<body>\n",
        "    <div class=\"container\">\n",
        "        <h2>Hyperparameter Terbaik yang Ditemukan</h2>\n",
        "        <ul>\n",
        "            <li><b>n_estimators =</b> 500 → Model menggunakan 500 pohon keputusan, jumlah yang cukup besar untuk menghasilkan prediksi yang stabil.</li>\n",
        "            <li><b>max_depth =</b> 20 → Kedalaman maksimum pohon adalah 20, membatasi kompleksitas pohon agar tidak terlalu dalam (menghindari overfitting).</li>\n",
        "            <li><b>min_samples_split =</b> 2 → Sebuah node akan dibagi menjadi dua jika minimal ada 2 sampel dalam node tersebut.</li>\n",
        "            <li><b>min_samples_leaf =</b> 2 → Setiap daun pohon harus memiliki setidaknya 2 sampel, mencegah pohon terlalu spesifik terhadap data latih.</li>\n",
        "            <li><b>max_features =</b> 'sqrt' → Setiap pohon akan menggunakan akar kuadrat dari jumlah fitur sebagai fitur kandidat saat membangun pohon.</li>\n",
        "            <li><b>bootstrap =</b> True → Model menggunakan bootstrap sampling, yaitu pemilihan sampel secara acak dengan pengembalian untuk membangun setiap pohon dalam hutan.</li>\n",
        "        </ul>\n",
        "        <h2>Kesimpulan & Interpretasi RandomizedSearchCV</h2>\n",
        "        <ul>\n",
        "            <li><b>Tuning Berhasil:</b> Hyperparameter yang ditemukan menunjukkan bahwa model Random Forest tidak overfitting karena adanya pembatasan kedalaman pohon (max_depth=20) dan jumlah sampel minimum di setiap leaf (min_samples_leaf=2).</li>\n",
        "            <li><b>Akurasi Stabil & Optimal:</b> Dengan 500 estimator, model memiliki keseimbangan antara bias dan varians, yang dapat meningkatkan stabilitas prediksi.</li>\n",
        "            <li><b>Pemilihan Fitur Efisien:</b> Penggunaan max_features='sqrt' memastikan bahwa setiap pohon tidak menggunakan semua fitur sekaligus, meningkatkan diversitas dalam model.</li>\n",
        "            <li><b>Siap untuk Evaluasi Lanjutan:</b> Model ini sekarang bisa diuji pada data uji dan dibandingkan dengan model lain. Jika hasilnya masih terlalu tinggi (misalnya akurasi 100%), bisa dicoba menurunkan max_depth atau mengubah min_samples_leaf agar model lebih generalisasi.</li>\n",
        "        </ul>\n",
        "    </div>\n",
        "</body>"
      ]
    },
    {
      "cell_type": "markdown",
      "metadata": {
        "id": "4W8FGMtXiOKv"
      },
      "source": [
        " ## GridSearchCV (untuk lebih detail)"
      ]
    },
    {
      "cell_type": "code",
      "execution_count": 67,
      "metadata": {
        "colab": {
          "base_uri": "https://localhost:8080/"
        },
        "id": "NmL7OFOznQ0s",
        "outputId": "3528f81d-5754-436a-c8d1-d38309e42d81"
      },
      "outputs": [
        {
          "output_type": "stream",
          "name": "stdout",
          "text": [
            "Fitting 3 folds for each of 81 candidates, totalling 243 fits\n",
            "\n",
            " Best Hyperparameters dari GridSearchCV:\n",
            "{'bootstrap': True,\n",
            " 'max_depth': 10,\n",
            " 'max_features': 'sqrt',\n",
            " 'min_samples_leaf': 1,\n",
            " 'min_samples_split': 2,\n",
            " 'n_estimators': 450}\n"
          ]
        }
      ],
      "source": [
        "\n",
        "# 🔹 Pastikan hasil dari RandomizedSearchCV tersedia\n",
        "best_rf_random = random_search.best_estimator_\n",
        "\n",
        "# Optimasi: Gunakan hasil terbaik dari RandomizedSearchCV\n",
        "param_grid = {\n",
        "    'n_estimators': [\n",
        "        max(50, best_rf_random.n_estimators - 50),\n",
        "        best_rf_random.n_estimators,\n",
        "        best_rf_random.n_estimators + 50\n",
        "    ],\n",
        "    'max_depth': [\n",
        "        None if best_rf_random.max_depth is None else max(1, best_rf_random.max_depth - 10),\n",
        "        best_rf_random.max_depth,\n",
        "        best_rf_random.max_depth + 10\n",
        "    ],\n",
        "    'min_samples_split': [\n",
        "        max(2, best_rf_random.min_samples_split - 1),  # Tidak boleh kurang dari 2\n",
        "        best_rf_random.min_samples_split,\n",
        "        best_rf_random.min_samples_split + 1\n",
        "    ],\n",
        "    'min_samples_leaf': [\n",
        "        max(1, best_rf_random.min_samples_leaf - 1),  # Tidak boleh kurang dari 1\n",
        "        best_rf_random.min_samples_leaf,\n",
        "        best_rf_random.min_samples_leaf + 1\n",
        "    ],\n",
        "    'max_features': ['sqrt'],  # Fokus pada yang paling umum\n",
        "    'bootstrap': [True]        # Biasanya lebih stabil dengan bootstrap\n",
        "}\n",
        "\n",
        "# 🔹 Inisialisasi model\n",
        "rf = RandomForestClassifier(random_state=42)\n",
        "\n",
        "# 🔹 Jalankan GridSearchCV dengan optimasi\n",
        "grid_search = GridSearchCV(\n",
        "    estimator=rf,\n",
        "    param_grid=param_grid,\n",
        "    cv=3,                      # Percepat dengan 3-fold cross-validation\n",
        "    scoring='accuracy',        # Evaluasi dengan akurasi\n",
        "    verbose=1,                 # Tetap ada progress\n",
        "    n_jobs=-1,                 # Gunakan semua core CPU\n",
        "    refit=True                 # Setelah pencarian, langsung latih model terbaik\n",
        ")\n",
        "\n",
        "# 🔹 Fit ke data latih\n",
        "grid_search.fit(X_train, y_train)\n",
        "\n",
        "# 🔹 Cetak hasil terbaik\n",
        "print(\"\\n Best Hyperparameters dari GridSearchCV:\")\n",
        "pprint(grid_search.best_params_)\n",
        "\n",
        "# 🔹 Simpan model terbaik\n",
        "best_rf_grid = grid_search.best_estimator_"
      ]
    },
    {
      "cell_type": "code",
      "execution_count": 82,
      "metadata": {
        "id": "2eEwIhnDjFSI",
        "colab": {
          "base_uri": "https://localhost:8080/"
        },
        "outputId": "486a3d5c-1357-47c8-9992-0bf4f0bca02c"
      },
      "outputs": [
        {
          "output_type": "stream",
          "name": "stdout",
          "text": [
            "\n",
            " Hasil GridSearchCV:\n",
            "--------------------------------------------------\n",
            "🔹 Total kombinasi hyperparameter diuji : 81\n",
            "🔹 Total percobaan model               : 81\n",
            "\n",
            " **Hyperparameter Terbaik:**\n",
            "{'bootstrap': True,\n",
            " 'max_depth': 10,\n",
            " 'max_features': 'sqrt',\n",
            " 'min_samples_leaf': 1,\n",
            " 'min_samples_split': 2,\n",
            " 'n_estimators': 450}\n"
          ]
        }
      ],
      "source": [
        "# Cetak header\n",
        "print(\"\\n Hasil GridSearchCV:\")\n",
        "print(\"-\" * 50)\n",
        "\n",
        "# Jumlah kombinasi yang diuji\n",
        "print(f\"🔹 Total kombinasi hyperparameter diuji : {len(grid_search.cv_results_['params'])}\")\n",
        "print(f\"🔹 Total percobaan model               : {len(grid_search.cv_results_['mean_test_score'])}\")\n",
        "\n",
        "# Cetak hasil hyperparameter terbaik\n",
        "print(\"\\n **Hyperparameter Terbaik:**\")\n",
        "pprint(grid_search.best_params_)\n",
        "\n",
        "# Periksa apakah ada percobaan yang gagal\n",
        "num_failed = sum([1 for score in grid_search.cv_results_['mean_test_score'] if str(score) == 'nan'])\n",
        "if num_failed > 0:\n",
        "    print(f\"\\n Peringatan: {num_failed} dari {len(grid_search.cv_results_['params'])} kombinasi gagal dievaluasi.\")\n",
        "    print(\"   Penyebab utama kemungkinan karena nilai parameter yang tidak valid.\")"
      ]
    },
    {
      "cell_type": "markdown",
      "source": [
        "<body>\n",
        "    <div class=\"container\">\n",
        "        <h2>Hyperparameter Terbaik yang Ditemukan</h2>\n",
        "        <ul>\n",
        "            <li><b>bootstrap =</b> True → Menggunakan bootstrap sampling untuk membangun setiap pohon. Biasanya meningkatkan stabilitas model.</li>\n",
        "            <li><b>max_depth =</b> 10 → Model dibatasi hanya sampai kedalaman 10, yang membantu mengurangi overfitting dengan menjaga kompleksitas model tetap terkendali.</li>\n",
        "            <li><b>max_features =</b> 'sqrt' → Setiap pohon hanya mempertimbangkan akar jumlah fitur saat melakukan split. Ini meningkatkan keragaman model dan menghindari dominasi fitur tertentu.</li>\n",
        "            <li><b>min_samples_leaf =</b> 1 → Setiap daun pohon keputusan bisa memiliki hanya satu sampel, yang berarti model tetap fleksibel untuk menangani data dengan jumlah sampel kecil di beberapa kasus.</li>\n",
        "            <li><b>min_samples_split =</b> 2 → Cabang baru dibuat jika setidaknya ada dua sampel di satu node. Pengaturan default ini memastikan model tetap bisa belajar pola dari data dengan baik.</li>\n",
        "            <li><b>n_estimators =</b> 450 → Model terdiri dari 450 pohon keputusan, yang merupakan peningkatan dari pengujian sebelumnya. Jumlah pohon yang lebih besar dapat meningkatkan akurasi tetapi juga memperpanjang waktu komputasi.</li>\n",
        "        </ul>\n",
        "        <h2>Kesimpulan</h2>\n",
        "        <ul>\n",
        "            <li>Parameter yang dipilih menunjukkan bahwa model cenderung mencari keseimbangan antara bias dan varians.</li>\n",
        "            <li><b>max_depth=10</b> membatasi pertumbuhan pohon, mencegah overfitting.</li>\n",
        "            <li><b>n_estimators=450</b> menambah stabilitas dan akurasi model dengan lebih banyak pohon keputusan.</li>\n",
        "            <li><b>min_samples_split=2</b> dan <b>min_samples_leaf=1</b> memungkinkan model untuk tetap fleksibel menangani data kecil.</li>\n",
        "            <li><b>Penggunaan bootstrap=True dan max_features='sqrt'</b> memastikan setiap pohon memiliki subset fitur yang berbeda, sehingga meningkatkan diversitas ensemble model.</li>\n",
        "            <li>Ini sangat baik untuk menghindari ketergantungan pada fitur tertentu yang dapat menyebabkan overfitting.</li>\n",
        "        </ul>\n",
        "        <h2>Perbandingan GridSearchCV dan RandomizedSearchCV</h2>\n",
        "        <ul>\n",
        "            <li>Dibandingkan dengan hasil dari RandomizedSearchCV, GridSearchCV memperbaiki pemilihan jumlah pohon dan batas kedalaman yang lebih optimal.</li>\n",
        "            <li>Sebelumnya, RandomizedSearchCV memilih <b>max_depth=20</b>, tetapi GridSearchCV menemukan <b>max_depth=10</b> lebih optimal untuk menghindari overfitting.</li>\n",
        "            <li><b>n_estimators=450</b> ditemukan sebagai jumlah yang ideal untuk keseimbangan antara kinerja dan efisiensi komputasi.</li>\n",
        "        </ul>\n",
        "    </div>\n",
        "</body>"
      ],
      "metadata": {
        "id": "GP8uhCBk0JPu"
      }
    },
    {
      "cell_type": "markdown",
      "metadata": {
        "id": "hE7pqlEPEYzI"
      },
      "source": [
        "## **d. Evaluasi Model Klasifikasi setelah Tuning (Optional)**"
      ]
    },
    {
      "cell_type": "markdown",
      "metadata": {
        "id": "feaPESoeN0zz"
      },
      "source": [
        "Berikut adalah rekomendasi tahapannya.\n",
        "1. Gunakan model dengan hyperparameter terbaik.\n",
        "2. Hitung ulang metrik evaluasi untuk melihat apakah ada peningkatan performa."
      ]
    },
    {
      "cell_type": "markdown",
      "source": [
        "## Mencegah Data Leakage"
      ],
      "metadata": {
        "id": "M6uD85CkE_Ah"
      }
    },
    {
      "cell_type": "code",
      "source": [
        "from sklearn.model_selection import train_test_split\n",
        "from sklearn.preprocessing import StandardScaler\n",
        "from sklearn.pipeline import Pipeline\n",
        "from sklearn.compose import ColumnTransformer\n",
        "from sklearn.impute import SimpleImputer\n",
        "from sklearn.preprocessing import OneHotEncoder\n",
        "import pandas as pd\n",
        "\n",
        "# Split Data Dulu (Pastikan Tidak Ada Kebocoran)\n",
        "X_train, X_test, y_train, y_test = train_test_split(X, y, test_size=0.2, random_state=42, stratify=y)\n",
        "\n",
        "#  Tentukan kolom numerik dan kategorikal\n",
        "num_features = X.select_dtypes(include=['int64', 'float64']).columns\n",
        "cat_features = X.select_dtypes(include=['object']).columns\n",
        "\n",
        "#  Buat pipeline untuk preprocessing\n",
        "num_pipeline = Pipeline([\n",
        "    ('imputer', SimpleImputer(strategy='mean')),  # Isi nilai NaN dengan mean\n",
        "    ('scaler', StandardScaler())  # Normalisasi data numerik\n",
        "])\n",
        "\n",
        "cat_pipeline = Pipeline([\n",
        "    ('imputer', SimpleImputer(strategy='most_frequent')),  # Isi NaN dengan modus\n",
        "    ('encoder', OneHotEncoder(handle_unknown='ignore'))  # Encoding kategorikal\n",
        "])\n",
        "\n",
        "# Gabungkan dalam ColumnTransformer\n",
        "preprocessor = ColumnTransformer([\n",
        "    ('num', num_pipeline, num_features),\n",
        "    ('cat', cat_pipeline, cat_features)\n",
        "])\n",
        "\n",
        "# Terapkan pipeline hanya ke data latih dan uji (tanpa fit ulang di test!)\n",
        "X_train_transformed = preprocessor.fit_transform(X_train)\n",
        "X_test_transformed = preprocessor.transform(X_test)\n",
        "\n",
        "# Pastikan bentuk data tetap sesuai\n",
        "print(f\"Shape X_train: {X_train_transformed.shape}, Shape X_test: {X_test_transformed.shape}\")"
      ],
      "metadata": {
        "colab": {
          "base_uri": "https://localhost:8080/"
        },
        "id": "HJdIksI0E9tz",
        "outputId": "d8bb332a-0ec0-4d80-c9f0-5520dec4baf9"
      },
      "execution_count": 72,
      "outputs": [
        {
          "output_type": "stream",
          "name": "stdout",
          "text": [
            "Shape X_train: (12490, 7), Shape X_test: (3123, 7)\n"
          ]
        }
      ]
    },
    {
      "cell_type": "code",
      "execution_count": 73,
      "metadata": {
        "id": "HTXZRvEeNMb1",
        "colab": {
          "base_uri": "https://localhost:8080/"
        },
        "outputId": "e32c5581-2320-4287-b904-4b6b19ed2626"
      },
      "outputs": [
        {
          "output_type": "stream",
          "name": "stdout",
          "text": [
            "\n",
            " Evaluasi Model Sebelum Tuning\n",
            " Random Forest - Akurasi Train: 0.9990, Akurasi Test: 0.9984 \n",
            "   F1-Score Train: 0.9990, F1-Score Test: 0.9984\n",
            "\n",
            " KNN - Akurasi Train: 0.9950, Akurasi Test: 0.9962 \n",
            "   F1-Score Train: 0.9949, F1-Score Test: 0.9961\n",
            "\n",
            " Decision Tree - Akurasi Train: 0.9916, Akurasi Test: 0.9894 \n",
            "   F1-Score Train: 0.9915, F1-Score Test: 0.9893\n",
            "\n",
            " Logistic Regression - Akurasi Train: 0.9980, Akurasi Test: 0.9965 \n",
            "   F1-Score Train: 0.9980, F1-Score Test: 0.9965\n",
            "\n",
            "\n",
            " Model Terbaik Sebelum Tuning: Random Forest\n"
          ]
        }
      ],
      "source": [
        "#  Dictionary untuk menyimpan hasil evaluasi\n",
        "evaluation_results = {}\n",
        "\n",
        "#  Evaluasi semua model sebelum tuning\n",
        "print(\"\\n Evaluasi Model Sebelum Tuning\")\n",
        "\n",
        "for name, model in trained_models.items():\n",
        "    try:\n",
        "        # Gunakan hasil transformasi\n",
        "        y_pred_train = model.predict(X_train_transformed)\n",
        "        y_pred_test = model.predict(X_test_transformed)\n",
        "\n",
        "        # Hitung metrik evaluasi\n",
        "        accuracy_train = accuracy_score(y_train, y_pred_train)\n",
        "        accuracy_test = accuracy_score(y_test, y_pred_test)\n",
        "        f1_train = f1_score(y_train, y_pred_train, average='weighted')\n",
        "        f1_test = f1_score(y_test, y_pred_test, average='weighted')\n",
        "\n",
        "        # Simpan hasil evaluasi di dictionary\n",
        "        evaluation_results[name] = {\n",
        "            'accuracy_train': accuracy_train,\n",
        "            'accuracy_test': accuracy_test,\n",
        "            'f1_train': f1_train,\n",
        "            'f1_test': f1_test\n",
        "        }\n",
        "\n",
        "        # Deteksi Overfitting atau Kebocoran Data\n",
        "        if accuracy_train == 1.0 and accuracy_test < 1.0:\n",
        "            warning = \"  Overfitting kemungkinan terjadi!\"\n",
        "        elif accuracy_train == 1.0 and accuracy_test == 1.0:\n",
        "            warning = \"  Periksa kemungkinan kebocoran data!\"\n",
        "        else:\n",
        "            warning = \"\"\n",
        "\n",
        "        # Cetak hasil evaluasi\n",
        "        print(f\" {name} - Akurasi Train: {accuracy_train:.4f}, Akurasi Test: {accuracy_test:.4f} {warning}\")\n",
        "        print(f\"   F1-Score Train: {f1_train:.4f}, F1-Score Test: {f1_test:.4f}\\n\")\n",
        "\n",
        "    except Exception as e:\n",
        "        print(f\" Model {name} gagal dievaluasi: {e}\")\n",
        "\n",
        "#  Cari model terbaik sebelum tuning (hindari model dengan skor 1.0)\n",
        "filtered_models = {name: scores for name, scores in evaluation_results.items()\n",
        "                   if scores['accuracy_test'] < 1.0 and scores['f1_test'] < 1.0}\n",
        "\n",
        "if filtered_models:\n",
        "    best_algorithm = max(filtered_models, key=lambda x: filtered_models[x]['f1_test'])\n",
        "else:\n",
        "    best_algorithm = \"Tidak ada model yang valid (semua overfitting atau memiliki skor 1.0)\"\n",
        "\n",
        "print(f\"\\n Model Terbaik Sebelum Tuning: {best_algorithm}\")"
      ]
    },
    {
      "cell_type": "code",
      "execution_count": 74,
      "metadata": {
        "id": "iE6ZTN4RsD_g",
        "colab": {
          "base_uri": "https://localhost:8080/"
        },
        "outputId": "c01dc287-008d-4a81-c9f5-1ccb57e704e8"
      },
      "outputs": [
        {
          "output_type": "stream",
          "name": "stdout",
          "text": [
            "\n",
            " Evaluasi Model Setelah Tuning\n",
            " Model Terbaik Setelah Tuning: RandomForestClassifier\n",
            " Akurasi Train: 0.9952\n",
            " Akurasi Test: 0.9952 \n",
            " F1-Score Train: 0.9952\n",
            " F1-Score Test: 0.9952\n"
          ]
        }
      ],
      "source": [
        "# Gunakan model terbaik hasil GridSearchCV\n",
        "best_rf_grid = grid_search.best_estimator_\n",
        "\n",
        "# Prediksi pada data latih dan uji dengan model terbaik setelah tuning\n",
        "y_pred_train_best = best_rf_grid.predict(X_train_transformed)\n",
        "y_pred_test_best = best_rf_grid.predict(X_test_transformed)\n",
        "\n",
        "# Hitung metrik evaluasi setelah tuning\n",
        "accuracy_train_best = accuracy_score(y_train, y_pred_train_best)\n",
        "accuracy_test_best = accuracy_score(y_test, y_pred_test_best)\n",
        "f1_train_best = f1_score(y_train, y_pred_train_best, average='weighted')\n",
        "f1_test_best = f1_score(y_test, y_pred_test_best, average='weighted')\n",
        "\n",
        "# Deteksi Overfitting setelah tuning\n",
        "if accuracy_train_best == 1.0 and accuracy_test_best < 1.0:\n",
        "    warning = \" Overfitting masih terjadi setelah tuning!\"\n",
        "elif accuracy_train_best == 1.0 and accuracy_test_best == 1.0:\n",
        "    warning = \" Periksa kemungkinan kebocoran data!\"\n",
        "else:\n",
        "    warning = \"\"\n",
        "\n",
        "# Simpan hasil evaluasi model terbaik setelah tuning\n",
        "evaluation_results[\"Best Tuned Model\"] = {\n",
        "    'accuracy_train': accuracy_train_best,\n",
        "    'accuracy_test': accuracy_test_best,\n",
        "    'f1_train': f1_train_best,\n",
        "    'f1_test': f1_test_best\n",
        "}\n",
        "\n",
        "# Tampilkan hasil evaluasi setelah tuning\n",
        "print(\"\\n Evaluasi Model Setelah Tuning\")\n",
        "print(f\" Model Terbaik Setelah Tuning: {best_rf_grid.__class__.__name__}\")\n",
        "print(f\" Akurasi Train: {accuracy_train_best:.4f}\")\n",
        "print(f\" Akurasi Test: {accuracy_test_best:.4f} {warning}\")\n",
        "print(f\" F1-Score Train: {f1_train_best:.4f}\")\n",
        "print(f\" F1-Score Test: {f1_test_best:.4f}\")"
      ]
    },
    {
      "cell_type": "code",
      "source": [
        "# Tampilkan Classification Report\n",
        "print(f\"\\n Classification Report - Final Model ({best_rf_grid.__class__.__name__}):\")\n",
        "print(classification_report(y_test, y_pred_test_best))\n",
        "\n",
        "# Tampilkan Confusion Matrix\n",
        "plt.figure(figsize=(6, 4))\n",
        "sns.heatmap(confusion_matrix(y_test, y_pred_test_best), annot=True, fmt='d', cmap='Blues', cbar=False)\n",
        "plt.title(f'Confusion Matrix - Final Model ({best_rf_grid.__class__.__name__})')\n",
        "plt.xlabel('Predicted Label')\n",
        "plt.ylabel('Actual Label')\n",
        "plt.show()"
      ],
      "metadata": {
        "colab": {
          "base_uri": "https://localhost:8080/",
          "height": 601
        },
        "id": "vXiK7eIQcmqO",
        "outputId": "fa284ef2-4925-42c8-af60-63da0962782a"
      },
      "execution_count": 76,
      "outputs": [
        {
          "output_type": "stream",
          "name": "stdout",
          "text": [
            "\n",
            " Classification Report - Final Model (RandomForestClassifier):\n",
            "              precision    recall  f1-score   support\n",
            "\n",
            "           0       0.99      1.00      1.00      2637\n",
            "           1       1.00      0.97      0.98       486\n",
            "\n",
            "    accuracy                           1.00      3123\n",
            "   macro avg       1.00      0.98      0.99      3123\n",
            "weighted avg       1.00      1.00      1.00      3123\n",
            "\n"
          ]
        },
        {
          "output_type": "display_data",
          "data": {
            "text/plain": [
              "<Figure size 600x400 with 1 Axes>"
            ],
            "image/png": "[encoded data removed]"
          },
          "metadata": {}
        }
      ]
    },
    {
      "cell_type": "code",
      "source": [
        "# Simpan hasil evaluasi model final ke dictionary\n",
        "evaluation_results[\"Best Tuned Model\"] = {\n",
        "    \"accuracy_train\": accuracy_train_best,\n",
        "    \"accuracy_test\": accuracy_test_best,\n",
        "    \"f1_train\": f1_train_best,\n",
        "    \"f1_test\": f1_test_best\n",
        "}\n",
        "\n",
        "# Konversi dictionary ke DataFrame untuk analisis lebih mudah\n",
        "df_results = pd.DataFrame(evaluation_results).T.sort_values(by=\"f1_test\", ascending=False)\n",
        "\n",
        "# Tampilkan hasil evaluasi dalam bentuk tabel\n",
        "print(\"\\n Ringkasan Evaluasi Model:\")\n",
        "display(df_results)  # Gunakan display() jika di Jupyter Notebook\n"
      ],
      "metadata": {
        "colab": {
          "base_uri": "https://localhost:8080/",
          "height": 241
        },
        "id": "9cCmCj_Lf4uF",
        "outputId": "866ecbff-7e56-47c5-cf2d-03c4b587690b"
      },
      "execution_count": 78,
      "outputs": [
        {
          "output_type": "stream",
          "name": "stdout",
          "text": [
            "\n",
            " Ringkasan Evaluasi Model:\n"
          ]
        },
        {
          "output_type": "display_data",
          "data": {
            "text/plain": [
              "                     accuracy_train  accuracy_test  f1_train   f1_test\n",
              "Random Forest              0.999039       0.998399  0.999038  0.998396\n",
              "Logistic Regression        0.997998       0.996478  0.997993  0.996461\n",
              "KNN                        0.994956       0.996158  0.994937  0.996148\n",
              "Best Tuned Model           0.995196       0.995197  0.995165  0.995166\n",
              "Decision Tree              0.991593       0.989433  0.991497  0.989280"
            ],
            "text/html": [
              "\n",
              "  <div id=\"df-7dd1e2f4-920d-4a70-834f-e3884be42737\" class=\"colab-df-container\">\n",
              "    <div>\n",
              "<style scoped>\n",
              "    .dataframe tbody tr th:only-of-type {\n",
              "        vertical-align: middle;\n",
              "    }\n",
              "\n",
              "    .dataframe tbody tr th {\n",
              "        vertical-align: top;\n",
              "    }\n",
              "\n",
              "    .dataframe thead th {\n",
              "        text-align: right;\n",
              "    }\n",
              "</style>\n",
              "<table border=\"1\" class=\"dataframe\">\n",
              "  <thead>\n",
              "    <tr style=\"text-align: right;\">\n",
              "      <th></th>\n",
              "      <th>accuracy_train</th>\n",
              "      <th>accuracy_test</th>\n",
              "      <th>f1_train</th>\n",
              "      <th>f1_test</th>\n",
              "    </tr>\n",
              "  </thead>\n",
              "  <tbody>\n",
              "    <tr>\n",
              "      <th>Random Forest</th>\n",
              "      <td>0.999039</td>\n",
              "      <td>0.998399</td>\n",
              "      <td>0.999038</td>\n",
              "      <td>0.998396</td>\n",
              "    </tr>\n",
              "    <tr>\n",
              "      <th>Logistic Regression</th>\n",
              "      <td>0.997998</td>\n",
              "      <td>0.996478</td>\n",
              "      <td>0.997993</td>\n",
              "      <td>0.996461</td>\n",
              "    </tr>\n",
              "    <tr>\n",
              "      <th>KNN</th>\n",
              "      <td>0.994956</td>\n",
              "      <td>0.996158</td>\n",
              "      <td>0.994937</td>\n",
              "      <td>0.996148</td>\n",
              "    </tr>\n",
              "    <tr>\n",
              "      <th>Best Tuned Model</th>\n",
              "      <td>0.995196</td>\n",
              "      <td>0.995197</td>\n",
              "      <td>0.995165</td>\n",
              "      <td>0.995166</td>\n",
              "    </tr>\n",
              "    <tr>\n",
              "      <th>Decision Tree</th>\n",
              "      <td>0.991593</td>\n",
              "      <td>0.989433</td>\n",
              "      <td>0.991497</td>\n",
              "      <td>0.989280</td>\n",
              "    </tr>\n",
              "  </tbody>\n",
              "</table>\n",
              "</div>\n",
              "    <div class=\"colab-df-buttons\">\n",
              "\n",
              "  <div class=\"colab-df-container\">\n",
              "    <button class=\"colab-df-convert\" onclick=\"convertToInteractive('df-7dd1e2f4-920d-4a70-834f-e3884be42737')\"\n",
              "            title=\"Convert this dataframe to an interactive table.\"\n",
              "            style=\"display:none;\">\n",
              "\n",
              "  <svg xmlns=\"http://www.w3.org/2000/svg\" height=\"24px\" viewBox=\"0 -960 960 960\">\n",
              "    <path d=\"M120-120v-720h720v720H120Zm60-500h600v-160H180v160Zm220 220h160v-160H400v160Zm0 220h160v-160H400v160ZM180-400h160v-160H180v160Zm440 0h160v-160H620v160ZM180-180h160v-160H180v160Zm440 0h160v-160H620v160Z\"/>\n",
              "  </svg>\n",
              "    </button>\n",
              "\n",
              "  <style>\n",
              "    .colab-df-container {\n",
              "      display:flex;\n",
              "      gap: 12px;\n",
              "    }\n",
              "\n",
              "    .colab-df-convert {\n",
              "      background-color: #E8F0FE;\n",
              "      border: none;\n",
              "      border-radius: 50%;\n",
              "      cursor: pointer;\n",
              "      display: none;\n",
              "      fill: #1967D2;\n",
              "      height: 32px;\n",
              "      padding: 0 0 0 0;\n",
              "      width: 32px;\n",
              "    }\n",
              "\n",
              "    .colab-df-convert:hover {\n",
              "      background-color: #E2EBFA;\n",
              "      box-shadow: 0px 1px 2px rgba(60, 64, 67, 0.3), 0px 1px 3px 1px rgba(60, 64, 67, 0.15);\n",
              "      fill: #174EA6;\n",
              "    }\n",
              "\n",
              "    .colab-df-buttons div {\n",
              "      margin-bottom: 4px;\n",
              "    }\n",
              "\n",
              "    [theme=dark] .colab-df-convert {\n",
              "      background-color: #3B4455;\n",
              "      fill: #D2E3FC;\n",
              "    }\n",
              "\n",
              "    [theme=dark] .colab-df-convert:hover {\n",
              "      background-color: #434B5C;\n",
              "      box-shadow: 0px 1px 3px 1px rgba(0, 0, 0, 0.15);\n",
              "      filter: drop-shadow(0px 1px 2px rgba(0, 0, 0, 0.3));\n",
              "      fill: #FFFFFF;\n",
              "    }\n",
              "  </style>\n",
              "\n",
              "    <script>\n",
              "      const buttonEl =\n",
              "        document.querySelector('#df-7dd1e2f4-920d-4a70-834f-e3884be42737 button.colab-df-convert');\n",
              "      buttonEl.style.display =\n",
              "        google.colab.kernel.accessAllowed ? 'block' : 'none';\n",
              "\n",
              "      async function convertToInteractive(key) {\n",
              "        const element = document.querySelector('#df-7dd1e2f4-920d-4a70-834f-e3884be42737');\n",
              "        const dataTable =\n",
              "          await google.colab.kernel.invokeFunction('convertToInteractive',\n",
              "                                                    [key], {});\n",
              "        if (!dataTable) return;\n",
              "\n",
              "        const docLinkHtml = 'Like what you see? Visit the ' +\n",
              "          '<a target=\"_blank\" href=https://colab.research.google.com/notebooks/data_table.ipynb>data table notebook</a>'\n",
              "          + ' to learn more about interactive tables.';\n",
              "        element.innerHTML = '';\n",
              "        dataTable['output_type'] = 'display_data';\n",
              "        await google.colab.output.renderOutput(dataTable, element);\n",
              "        const docLink = document.createElement('div');\n",
              "        docLink.innerHTML = docLinkHtml;\n",
              "        element.appendChild(docLink);\n",
              "      }\n",
              "    </script>\n",
              "  </div>\n",
              "\n",
              "\n",
              "<div id=\"df-32a02354-7f12-474f-b806-bd9ac4be6a5d\">\n",
              "  <button class=\"colab-df-quickchart\" onclick=\"quickchart('df-32a02354-7f12-474f-b806-bd9ac4be6a5d')\"\n",
              "            title=\"Suggest charts\"\n",
              "            style=\"display:none;\">\n",
              "\n",
              "<svg xmlns=\"http://www.w3.org/2000/svg\" height=\"24px\"viewBox=\"0 0 24 24\"\n",
              "     width=\"24px\">\n",
              "    <g>\n",
              "        <path d=\"M19 3H5c-1.1 0-2 .9-2 2v14c0 1.1.9 2 2 2h14c1.1 0 2-.9 2-2V5c0-1.1-.9-2-2-2zM9 17H7v-7h2v7zm4 0h-2V7h2v10zm4 0h-2v-4h2v4z\"/>\n",
              "    </g>\n",
              "</svg>\n",
              "  </button>\n",
              "\n",
              "<style>\n",
              "  .colab-df-quickchart {\n",
              "      --bg-color: #E8F0FE;\n",
              "      --fill-color: #1967D2;\n",
              "      --hover-bg-color: #E2EBFA;\n",
              "      --hover-fill-color: #174EA6;\n",
              "      --disabled-fill-color: #AAA;\n",
              "      --disabled-bg-color: #DDD;\n",
              "  }\n",
              "\n",
              "  [theme=dark] .colab-df-quickchart {\n",
              "      --bg-color: #3B4455;\n",
              "      --fill-color: #D2E3FC;\n",
              "      --hover-bg-color: #434B5C;\n",
              "      --hover-fill-color: #FFFFFF;\n",
              "      --disabled-bg-color: #3B4455;\n",
              "      --disabled-fill-color: #666;\n",
              "  }\n",
              "\n",
              "  .colab-df-quickchart {\n",
              "    background-color: var(--bg-color);\n",
              "    border: none;\n",
              "    border-radius: 50%;\n",
              "    cursor: pointer;\n",
              "    display: none;\n",
              "    fill: var(--fill-color);\n",
              "    height: 32px;\n",
              "    padding: 0;\n",
              "    width: 32px;\n",
              "  }\n",
              "\n",
              "  .colab-df-quickchart:hover {\n",
              "    background-color: var(--hover-bg-color);\n",
              "    box-shadow: 0 1px 2px rgba(60, 64, 67, 0.3), 0 1px 3px 1px rgba(60, 64, 67, 0.15);\n",
              "    fill: var(--button-hover-fill-color);\n",
              "  }\n",
              "\n",
              "  .colab-df-quickchart-complete:disabled,\n",
              "  .colab-df-quickchart-complete:disabled:hover {\n",
              "    background-color: var(--disabled-bg-color);\n",
              "    fill: var(--disabled-fill-color);\n",
              "    box-shadow: none;\n",
              "  }\n",
              "\n",
              "  .colab-df-spinner {\n",
              "    border: 2px solid var(--fill-color);\n",
              "    border-color: transparent;\n",
              "    border-bottom-color: var(--fill-color);\n",
              "    animation:\n",
              "      spin 1s steps(1) infinite;\n",
              "  }\n",
              "\n",
              "  @keyframes spin {\n",
              "    0% {\n",
              "      border-color: transparent;\n",
              "      border-bottom-color: var(--fill-color);\n",
              "      border-left-color: var(--fill-color);\n",
              "    }\n",
              "    20% {\n",
              "      border-color: transparent;\n",
              "      border-left-color: var(--fill-color);\n",
              "      border-top-color: var(--fill-color);\n",
              "    }\n",
              "    30% {\n",
              "      border-color: transparent;\n",
              "      border-left-color: var(--fill-color);\n",
              "      border-top-color: var(--fill-color);\n",
              "      border-right-color: var(--fill-color);\n",
              "    }\n",
              "    40% {\n",
              "      border-color: transparent;\n",
              "      border-right-color: var(--fill-color);\n",
              "      border-top-color: var(--fill-color);\n",
              "    }\n",
              "    60% {\n",
              "      border-color: transparent;\n",
              "      border-right-color: var(--fill-color);\n",
              "    }\n",
              "    80% {\n",
              "      border-color: transparent;\n",
              "      border-right-color: var(--fill-color);\n",
              "      border-bottom-color: var(--fill-color);\n",
              "    }\n",
              "    90% {\n",
              "      border-color: transparent;\n",
              "      border-bottom-color: var(--fill-color);\n",
              "    }\n",
              "  }\n",
              "</style>\n",
              "\n",
              "  <script>\n",
              "    async function quickchart(key) {\n",
              "      const quickchartButtonEl =\n",
              "        document.querySelector('#' + key + ' button');\n",
              "      quickchartButtonEl.disabled = true;  // To prevent multiple clicks.\n",
              "      quickchartButtonEl.classList.add('colab-df-spinner');\n",
              "      try {\n",
              "        const charts = await google.colab.kernel.invokeFunction(\n",
              "            'suggestCharts', [key], {});\n",
              "      } catch (error) {\n",
              "        console.error('Error during call to suggestCharts:', error);\n",
              "      }\n",
              "      quickchartButtonEl.classList.remove('colab-df-spinner');\n",
              "      quickchartButtonEl.classList.add('colab-df-quickchart-complete');\n",
              "    }\n",
              "    (() => {\n",
              "      let quickchartButtonEl =\n",
              "        document.querySelector('#df-32a02354-7f12-474f-b806-bd9ac4be6a5d button');\n",
              "      quickchartButtonEl.style.display =\n",
              "        google.colab.kernel.accessAllowed ? 'block' : 'none';\n",
              "    })();\n",
              "  </script>\n",
              "</div>\n",
              "\n",
              "  <div id=\"id_a787e43e-ad57-479c-8083-dee8fca459d6\">\n",
              "    <style>\n",
              "      .colab-df-generate {\n",
              "        background-color: #E8F0FE;\n",
              "        border: none;\n",
              "        border-radius: 50%;\n",
              "        cursor: pointer;\n",
              "        display: none;\n",
              "        fill: #1967D2;\n",
              "        height: 32px;\n",
              "        padding: 0 0 0 0;\n",
              "        width: 32px;\n",
              "      }\n",
              "\n",
              "      .colab-df-generate:hover {\n",
              "        background-color: #E2EBFA;\n",
              "        box-shadow: 0px 1px 2px rgba(60, 64, 67, 0.3), 0px 1px 3px 1px rgba(60, 64, 67, 0.15);\n",
              "        fill: #174EA6;\n",
              "      }\n",
              "\n",
              "      [theme=dark] .colab-df-generate {\n",
              "        background-color: #3B4455;\n",
              "        fill: #D2E3FC;\n",
              "      }\n",
              "\n",
              "      [theme=dark] .colab-df-generate:hover {\n",
              "        background-color: #434B5C;\n",
              "        box-shadow: 0px 1px 3px 1px rgba(0, 0, 0, 0.15);\n",
              "        filter: drop-shadow(0px 1px 2px rgba(0, 0, 0, 0.3));\n",
              "        fill: #FFFFFF;\n",
              "      }\n",
              "    </style>\n",
              "    <button class=\"colab-df-generate\" onclick=\"generateWithVariable('df_results')\"\n",
              "            title=\"Generate code using this dataframe.\"\n",
              "            style=\"display:none;\">\n",
              "\n",
              "  <svg xmlns=\"http://www.w3.org/2000/svg\" height=\"24px\"viewBox=\"0 0 24 24\"\n",
              "       width=\"24px\">\n",
              "    <path d=\"M7,19H8.4L18.45,9,17,7.55,7,17.6ZM5,21V16.75L18.45,3.32a2,2,0,0,1,2.83,0l1.4,1.43a1.91,1.91,0,0,1,.58,1.4,1.91,1.91,0,0,1-.58,1.4L9.25,21ZM18.45,9,17,7.55Zm-12,3A5.31,5.31,0,0,0,4.9,8.1,5.31,5.31,0,0,0,1,6.5,5.31,5.31,0,0,0,4.9,4.9,5.31,5.31,0,0,0,6.5,1,5.31,5.31,0,0,0,8.1,4.9,5.31,5.31,0,0,0,12,6.5,5.46,5.46,0,0,0,6.5,12Z\"/>\n",
              "  </svg>\n",
              "    </button>\n",
              "    <script>\n",
              "      (() => {\n",
              "      const buttonEl =\n",
              "        document.querySelector('#id_a787e43e-ad57-479c-8083-dee8fca459d6 button.colab-df-generate');\n",
              "      buttonEl.style.display =\n",
              "        google.colab.kernel.accessAllowed ? 'block' : 'none';\n",
              "\n",
              "      buttonEl.onclick = () => {\n",
              "        google.colab.notebook.generateWithVariable('df_results');\n",
              "      }\n",
              "      })();\n",
              "    </script>\n",
              "  </div>\n",
              "\n",
              "    </div>\n",
              "  </div>\n"
            ],
            "application/vnd.google.colaboratory.intrinsic+json": {
              "type": "dataframe",
              "variable_name": "df_results",
              "summary": "{\n  \"name\": \"df_results\",\n  \"rows\": 5,\n  \"fields\": [\n    {\n      \"column\": \"accuracy_train\",\n      \"properties\": {\n        \"dtype\": \"number\",\n        \"std\": 0.0029193202007213267,\n        \"min\": 0.9915932746196957,\n        \"max\": 0.9990392313851081,\n        \"num_unique_values\": 5,\n        \"samples\": [\n          0.9979983987189752,\n          0.9915932746196957,\n          0.9949559647718175\n        ],\n        \"semantic_type\": \"\",\n        \"description\": \"\"\n      }\n    },\n    {\n      \"column\": \"accuracy_test\",\n      \"properties\": {\n        \"dtype\": \"number\",\n        \"std\": 0.0033917547683292738,\n        \"min\": 0.989433237271854,\n        \"max\": 0.9983989753442203,\n        \"num_unique_values\": 5,\n        \"samples\": [\n          0.9964777457572846,\n          0.989433237271854,\n          0.9961575408261287\n        ],\n        \"semantic_type\": \"\",\n        \"description\": \"\"\n      }\n    },\n    {\n      \"column\": \"f1_train\",\n      \"properties\": {\n        \"dtype\": \"number\",\n        \"std\": 0.002954934814409716,\n        \"min\": 0.9914974286262714,\n        \"max\": 0.9990380172797534,\n        \"num_unique_values\": 5,\n        \"samples\": [\n          0.9979931067115004,\n          0.9914974286262714,\n          0.994937233285746\n        ],\n        \"semantic_type\": \"\",\n        \"description\": \"\"\n      }\n    },\n    {\n      \"column\": \"f1_test\",\n      \"properties\": {\n        \"dtype\": \"number\",\n        \"std\": 0.003452655048257738,\n        \"min\": 0.9892804124670834,\n        \"max\": 0.9983955943950243,\n        \"num_unique_values\": 5,\n        \"samples\": [\n          0.9964612527178873,\n          0.9892804124670834,\n          0.996147790938544\n        ],\n        \"semantic_type\": \"\",\n        \"description\": \"\"\n      }\n    }\n  ]\n}"
            }
          },
          "metadata": {}
        }
      ]
    },
    {
      "cell_type": "code",
      "source": [
        "# Tampilkan Classification Report\n",
        "print(f\"\\n Classification Report - Final Model ({best_rf_grid.__class__.__name__}):\")\n",
        "print(classification_report(y_test, y_pred_test_best))\n",
        "\n",
        "# Tampilkan Confusion Matrix\n",
        "plt.figure(figsize=(6, 4))\n",
        "sns.heatmap(confusion_matrix(y_test, y_pred_test_best), annot=True, fmt='d', cmap='Blues', cbar=False)\n",
        "plt.title(f'Confusion Matrix - Final Model ({best_rf_grid.__class__.__name__})')\n",
        "plt.xlabel('Predicted Label')\n",
        "plt.ylabel('Actual Label')\n",
        "plt.show()"
      ],
      "metadata": {
        "colab": {
          "base_uri": "https://localhost:8080/",
          "height": 601
        },
        "id": "tmtP2a6pgStH",
        "outputId": "2c8de299-7e31-4a18-d759-1a8ebb0261ab"
      },
      "execution_count": 79,
      "outputs": [
        {
          "output_type": "stream",
          "name": "stdout",
          "text": [
            "\n",
            " Classification Report - Final Model (RandomForestClassifier):\n",
            "              precision    recall  f1-score   support\n",
            "\n",
            "           0       0.99      1.00      1.00      2637\n",
            "           1       1.00      0.97      0.98       486\n",
            "\n",
            "    accuracy                           1.00      3123\n",
            "   macro avg       1.00      0.98      0.99      3123\n",
            "weighted avg       1.00      1.00      1.00      3123\n",
            "\n"
          ]
        },
        {
          "output_type": "display_data",
          "data": {
            "text/plain": [
              "<Figure size 600x400 with 1 Axes>"
            ],
            "image/png": "[encoded data removed]"
          },
          "metadata": {}
        }
      ]
    },
    {
      "cell_type": "markdown",
      "metadata": {
        "id": "ZRsOdm4uEgAW"
      },
      "source": [
        "## **e. Analisis Hasil Evaluasi Model Klasifikasi**"
      ]
    },
    {
      "cell_type": "markdown",
      "metadata": {
        "id": "Hm3BhSi6N4_l"
      },
      "source": [
        "<body>\n",
        "    <div class=\"container\">\n",
        "        <h2>Perbandingan Sebelum & Setelah Tuning</h2>\n",
        "        <table border=\"1\" cellpadding=\"10\" cellspacing=\"0\">\n",
        "            <tr>\n",
        "                <th>Model</th>\n",
        "                <th>Akurasi Train Sebelum</th>\n",
        "                <th>Akurasi Test Sebelum</th>\n",
        "                <th>Akurasi Train Setelah</th>\n",
        "                <th>Akurasi Test Setelah</th>\n",
        "            </tr>\n",
        "            <tr>\n",
        "                <td>Random Forest</td>\n",
        "                <td>0.9990</td>\n",
        "                <td>0.9984</td>\n",
        "                <td>0.9952</td>\n",
        "                <td>0.9952</td>\n",
        "            </tr>\n",
        "            <tr>\n",
        "                <td>KNN</td>\n",
        "                <td>0.9950</td>\n",
        "                <td>0.9962</td>\n",
        "                <td>-</td>\n",
        "                <td>-</td>\n",
        "            </tr>\n",
        "            <tr>\n",
        "                <td>Decision Tree</td>\n",
        "                <td>0.9916</td>\n",
        "                <td>0.9894</td>\n",
        "                <td>-</td>\n",
        "                <td>-</td>\n",
        "            </tr>\n",
        "            <tr>\n",
        "                <td>Logistic Regression</td>\n",
        "                <td>0.9980</td>\n",
        "                <td>0.9965</td>\n",
        "                <td>-</td>\n",
        "                <td>-</td>\n",
        "            </tr>\n",
        "        </table>\n",
        "        <h2>Kesimpulan</h2>\n",
        "        <ul>\n",
        "            <li>Model terbaik sebelum dan setelah tuning tetap Random Forest.</li>\n",
        "            <li>Akurasi dan F1-Score sedikit turun setelah tuning, tetapi ini lebih realistis dan menunjukkan bahwa model lebih generalizable.</li>\n",
        "            <li>Tidak ada lagi indikasi overfitting yang ekstrem, karena train dan test score sudah lebih seimbang dibandingkan sebelum tuning.</li>\n",
        "            <li>Akurasi tinggi mendekati 1.0 bisa menjadi tanda data yang terlalu mudah dipelajari atau kemungkinan masih ada faktor yang membuat model terlalu percaya diri.</li>\n",
        "        </ul>\n",
        "        <h2>Identifikasi Kelemahan Model</h2>\n",
        "        <ul>\n",
        "            <li>Recall untuk kelas 1 hanya 97%, yang berarti ada beberapa kasus positif yang tidak terdeteksi dengan baik.</li>\n",
        "            <li>Jika kasus yang terlewatkan ini memiliki dampak bisnis besar, ini bisa menjadi kelemahan yang perlu diperbaiki.</li>\n",
        "            <li>Model sudah lebih generalizable setelah tuning dan tidak ada indikasi underfitting.</li>\n",
        "        </ul>\n",
        "        <h2>Rekomendasi Tindakan Lanjutan</h2>\n",
        "        <ul>\n",
        "            <li>Menambah Data Latih untuk meningkatkan generalisasi model.</li>\n",
        "            <li>Mengevaluasi fitur yang digunakan untuk memastikan tidak ada kebocoran data.</li>\n",
        "            <li>Mengeksperimen dengan algoritma lain seperti XGBoost atau LightGBM.</li>\n",
        "            <li>Menyesuaikan bobot kelas jika dataset tidak seimbang.</li>\n",
        "            <li>Evaluasi dengan data baru untuk melihat performa model di dunia nyata.</li>\n",
        "        </ul>\n",
        "        <h2>Interpretasi Bisnis</h2>\n",
        "        <ul>\n",
        "            <li>Random Forest memberikan akurasi ~99.5% tetapi Recall kelas 1 perlu diperhatikan.</li>\n",
        "            <li>Jika model digunakan dalam deteksi fraud atau medis, perlu diperbaiki Recall kelas 1 untuk mengurangi risiko false negatives.</li>\n",
        "            <li>Jika model sudah cukup baik untuk bisnis, bisa langsung dideploy dengan pemantauan berkala.</li>\n",
        "        </ul>\n",
        "        <h2>Kesimpulan Akhir</h2>\n",
        "        <ul>\n",
        "            <li>Model terbaik adalah Random Forest dengan tuning hyperparameter.</li>\n",
        "            <li>Performanya tinggi (~99.5% akurasi), tetapi Recall kelas 1 bisa lebih baik.</li>\n",
        "            <li>Model tidak mengalami overfitting setelah tuning.</li>\n",
        "            <li>Langkah selanjutnya tergantung pada dampak bisnis false negatives & kebutuhan Recall kelas 1.</li>\n",
        "        </ul>\n",
        "    </div>\n",
        "</body>"
      ]
    },
    {
      "cell_type": "markdown",
      "metadata": {
        "id": "Mxg45asbvYGg"
      },
      "source": [
        "<h1> Kesimpulan\n",
        "\n",
        "Kesimpulan Akhir:\n",
        "\n",
        "- Random Forest adalah model terbaik untuk saat ini dengan akurasi 0.88 dan F1-Score 0.82.\n",
        "- Tuning hyperparameter tidak meningkatkan performa secara signifikan.\n",
        "- Langkah selanjutnya adalah memperbaiki ketidakseimbangan kelas dan mengurangi risiko overfitting dengan membatasi kedalaman pohon keputusan."
      ]
    }
  ],
  "metadata": {
    "colab": {
      "provenance": [],
      "toc_visible": true
    },
    "kernelspec": {
      "display_name": "Python 3",
      "name": "python3"
    },
    "language_info": {
      "name": "python"
    }
  },
  "nbformat": 4,
  "nbformat_minor": 0
}